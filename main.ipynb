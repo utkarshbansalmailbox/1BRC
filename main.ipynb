{
 "cells": [
  {
   "cell_type": "code",
   "execution_count": 2,
   "metadata": {},
   "outputs": [],
   "source": [
    "import dask.dataframe as dd "
   ]
  },
  {
   "cell_type": "code",
   "execution_count": 3,
   "metadata": {},
   "outputs": [],
   "source": [
    "# %%time\n",
    "# Create 1B record file \n",
    "# !python3 createMeasurements2.py"
   ]
  },
  {
   "cell_type": "code",
   "execution_count": 4,
   "metadata": {},
   "outputs": [],
   "source": [
    "file= \"/Volumes/Crucial X6/1BRC/measurements.csv\"\n",
    "# df = pl.scan_csv(file, separator=\";\")\n",
    "# df.collect()\n",
    "# pl.LazyFrame.explain(optimized= True)\n",
    "# print(df)"
   ]
  },
  {
   "cell_type": "code",
   "execution_count": 13,
   "metadata": {},
   "outputs": [
    {
     "name": "stdout",
     "output_type": "stream",
     "text": [
      "CPU times: user 10min 28s, sys: 2min 43s, total: 13min 11s\n",
      "Wall time: 8min 13s\n"
     ]
    },
    {
     "data": {
      "text/plain": [
       "1000000000"
      ]
     },
     "execution_count": 13,
     "metadata": {},
     "output_type": "execute_result"
    }
   ],
   "source": [
    "%%time\n",
    "df = dd.read_csv(file, blocksize= 70e6, names= [\"station_name\", \"measures\"])\n",
    "# df.shape[0].compute()"
   ]
  },
  {
   "cell_type": "code",
   "execution_count": null,
   "metadata": {},
   "outputs": [],
   "source": []
  },
  {
   "cell_type": "code",
   "execution_count": 6,
   "metadata": {},
   "outputs": [
    {
     "data": {
      "text/html": [
       "<div>\n",
       "<style scoped>\n",
       "    .dataframe tbody tr th:only-of-type {\n",
       "        vertical-align: middle;\n",
       "    }\n",
       "\n",
       "    .dataframe tbody tr th {\n",
       "        vertical-align: top;\n",
       "    }\n",
       "\n",
       "    .dataframe thead th {\n",
       "        text-align: right;\n",
       "    }\n",
       "</style>\n",
       "<table border=\"1\" class=\"dataframe\">\n",
       "  <thead>\n",
       "    <tr style=\"text-align: right;\">\n",
       "      <th></th>\n",
       "      <th>station_name</th>\n",
       "      <th>measures</th>\n",
       "    </tr>\n",
       "  </thead>\n",
       "  <tbody>\n",
       "    <tr>\n",
       "      <th>0</th>\n",
       "      <td>Timbuktu</td>\n",
       "      <td>25.4</td>\n",
       "    </tr>\n",
       "    <tr>\n",
       "      <th>1</th>\n",
       "      <td>Oklahoma City</td>\n",
       "      <td>11.5</td>\n",
       "    </tr>\n",
       "    <tr>\n",
       "      <th>2</th>\n",
       "      <td>Sapporo</td>\n",
       "      <td>9.7</td>\n",
       "    </tr>\n",
       "    <tr>\n",
       "      <th>3</th>\n",
       "      <td>Parakou</td>\n",
       "      <td>-1.5</td>\n",
       "    </tr>\n",
       "    <tr>\n",
       "      <th>4</th>\n",
       "      <td>Bilbao</td>\n",
       "      <td>20.6</td>\n",
       "    </tr>\n",
       "    <tr>\n",
       "      <th>5</th>\n",
       "      <td>Chongqing</td>\n",
       "      <td>-4.7</td>\n",
       "    </tr>\n",
       "    <tr>\n",
       "      <th>6</th>\n",
       "      <td>Dikson</td>\n",
       "      <td>-20.3</td>\n",
       "    </tr>\n",
       "    <tr>\n",
       "      <th>7</th>\n",
       "      <td>Burnie</td>\n",
       "      <td>18.4</td>\n",
       "    </tr>\n",
       "    <tr>\n",
       "      <th>8</th>\n",
       "      <td>Iqaluit</td>\n",
       "      <td>0.4</td>\n",
       "    </tr>\n",
       "    <tr>\n",
       "      <th>9</th>\n",
       "      <td>Fianarantsoa</td>\n",
       "      <td>17.8</td>\n",
       "    </tr>\n",
       "  </tbody>\n",
       "</table>\n",
       "</div>"
      ],
      "text/plain": [
       "    station_name  measures\n",
       "0       Timbuktu      25.4\n",
       "1  Oklahoma City      11.5\n",
       "2        Sapporo       9.7\n",
       "3        Parakou      -1.5\n",
       "4         Bilbao      20.6\n",
       "5      Chongqing      -4.7\n",
       "6         Dikson     -20.3\n",
       "7         Burnie      18.4\n",
       "8        Iqaluit       0.4\n",
       "9   Fianarantsoa      17.8"
      ]
     },
     "execution_count": 6,
     "metadata": {},
     "output_type": "execute_result"
    }
   ],
   "source": [
    "df.head(10)"
   ]
  },
  {
   "cell_type": "code",
   "execution_count": 8,
   "metadata": {},
   "outputs": [
    {
     "name": "stdout",
     "output_type": "stream",
     "text": [
      "CPU times: user 5min 30s, sys: 33.2 s, total: 6min 3s\n",
      "Wall time: 2min 34s\n"
     ]
    },
    {
     "data": {
      "text/html": [
       "<div>\n",
       "<style scoped>\n",
       "    .dataframe tbody tr th:only-of-type {\n",
       "        vertical-align: middle;\n",
       "    }\n",
       "\n",
       "    .dataframe tbody tr th {\n",
       "        vertical-align: top;\n",
       "    }\n",
       "\n",
       "    .dataframe thead th {\n",
       "        text-align: right;\n",
       "    }\n",
       "</style>\n",
       "<table border=\"1\" class=\"dataframe\">\n",
       "  <thead>\n",
       "    <tr style=\"text-align: right;\">\n",
       "      <th></th>\n",
       "      <th>min</th>\n",
       "      <th>max</th>\n",
       "      <th>mean</th>\n",
       "    </tr>\n",
       "    <tr>\n",
       "      <th>station_name</th>\n",
       "      <th></th>\n",
       "      <th></th>\n",
       "      <th></th>\n",
       "    </tr>\n",
       "  </thead>\n",
       "  <tbody>\n",
       "    <tr>\n",
       "      <th>Abha</th>\n",
       "      <td>-30.7</td>\n",
       "      <td>71.4</td>\n",
       "      <td>17.990876</td>\n",
       "    </tr>\n",
       "    <tr>\n",
       "      <th>Abidjan</th>\n",
       "      <td>-22.9</td>\n",
       "      <td>78.3</td>\n",
       "      <td>26.004887</td>\n",
       "    </tr>\n",
       "    <tr>\n",
       "      <th>Abéché</th>\n",
       "      <td>-19.9</td>\n",
       "      <td>82.9</td>\n",
       "      <td>29.392935</td>\n",
       "    </tr>\n",
       "    <tr>\n",
       "      <th>Accra</th>\n",
       "      <td>-22.0</td>\n",
       "      <td>77.8</td>\n",
       "      <td>26.410927</td>\n",
       "    </tr>\n",
       "    <tr>\n",
       "      <th>Addis Ababa</th>\n",
       "      <td>-31.3</td>\n",
       "      <td>66.7</td>\n",
       "      <td>15.994171</td>\n",
       "    </tr>\n",
       "    <tr>\n",
       "      <th>...</th>\n",
       "      <td>...</td>\n",
       "      <td>...</td>\n",
       "      <td>...</td>\n",
       "    </tr>\n",
       "    <tr>\n",
       "      <th>Zagreb</th>\n",
       "      <td>-36.6</td>\n",
       "      <td>57.8</td>\n",
       "      <td>10.702868</td>\n",
       "    </tr>\n",
       "    <tr>\n",
       "      <th>Zanzibar City</th>\n",
       "      <td>-24.0</td>\n",
       "      <td>74.4</td>\n",
       "      <td>25.995767</td>\n",
       "    </tr>\n",
       "    <tr>\n",
       "      <th>Zürich</th>\n",
       "      <td>-38.4</td>\n",
       "      <td>61.8</td>\n",
       "      <td>9.296889</td>\n",
       "    </tr>\n",
       "    <tr>\n",
       "      <th>Ürümqi</th>\n",
       "      <td>-48.4</td>\n",
       "      <td>57.9</td>\n",
       "      <td>7.396159</td>\n",
       "    </tr>\n",
       "    <tr>\n",
       "      <th>İzmir</th>\n",
       "      <td>-33.0</td>\n",
       "      <td>74.0</td>\n",
       "      <td>17.894191</td>\n",
       "    </tr>\n",
       "  </tbody>\n",
       "</table>\n",
       "<p>413 rows × 3 columns</p>\n",
       "</div>"
      ],
      "text/plain": [
       "                min   max       mean\n",
       "station_name                        \n",
       "Abha          -30.7  71.4  17.990876\n",
       "Abidjan       -22.9  78.3  26.004887\n",
       "Abéché        -19.9  82.9  29.392935\n",
       "Accra         -22.0  77.8  26.410927\n",
       "Addis Ababa   -31.3  66.7  15.994171\n",
       "...             ...   ...        ...\n",
       "Zagreb        -36.6  57.8  10.702868\n",
       "Zanzibar City -24.0  74.4  25.995767\n",
       "Zürich        -38.4  61.8   9.296889\n",
       "Ürümqi        -48.4  57.9   7.396159\n",
       "İzmir         -33.0  74.0  17.894191\n",
       "\n",
       "[413 rows x 3 columns]"
      ]
     },
     "execution_count": 8,
     "metadata": {},
     "output_type": "execute_result"
    }
   ],
   "source": [
    "%%time\n",
    "result_df= df.groupby(\"station_name\")[\"measures\"].agg([\"min\", \"max\", \"mean\"]).sort_values(by= \"station_name\", ascending=True).compute()\n",
    "result_df"
   ]
  },
  {
   "cell_type": "code",
   "execution_count": null,
   "metadata": {},
   "outputs": [],
   "source": [
    "# output result – .csv \n",
    "# path= \"result.csv\"\n",
    "# result_df.to_csv(path, header= True)"
   ]
  },
  {
   "cell_type": "code",
   "execution_count": 15,
   "metadata": {},
   "outputs": [
    {
     "name": "stdout",
     "output_type": "stream",
     "text": [
      "Initial number of rows: 1000000000\n",
      "Number of rows after groupby and aggregate: 413\n"
     ]
    }
   ],
   "source": [
    "print(\"Initial number of rows:\", df.shape[0].compute())\n",
    "print(\"Number of rows after groupby and aggregate:\", result_df.shape[0])"
   ]
  },
  {
   "cell_type": "code",
   "execution_count": null,
   "metadata": {},
   "outputs": [],
   "source": []
  }
 ],
 "metadata": {
  "kernelspec": {
   "display_name": "dataenv",
   "language": "python",
   "name": "python3"
  },
  "language_info": {
   "codemirror_mode": {
    "name": "ipython",
    "version": 3
   },
   "file_extension": ".py",
   "mimetype": "text/x-python",
   "name": "python",
   "nbconvert_exporter": "python",
   "pygments_lexer": "ipython3",
   "version": "3.12.1"
  }
 },
 "nbformat": 4,
 "nbformat_minor": 2
}
